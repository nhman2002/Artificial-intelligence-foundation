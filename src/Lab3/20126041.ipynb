{
 "cells": [
  {
   "attachments": {},
   "cell_type": "markdown",
   "metadata": {
    "colab_type": "text",
    "id": "dw29NSYmFpyS"
   },
   "source": [
    "# Lab03: Linear Regression.\n",
    "\n",
    "- Student ID: 20126041\n",
    "- Student name: Nguyen Huynh Man"
   ]
  },
  {
   "cell_type": "markdown",
   "metadata": {
    "colab_type": "text",
    "id": "oHR1Zj5GFpyT"
   },
   "source": [
    "**How to do your homework**\n",
    "\n",
    "\n",
    "You will work directly on this notebook; the word `TODO` indicate the parts you need to do.\n",
    "\n",
    "You can discuss ideas with classmates as well as finding information from the internet, book, etc...; but *this homework must be your*.\n",
    "\n",
    "**How to submit your homework**\n",
    "\n",
    "Before submitting, rerun the notebook (`Kernel` ->` Restart & Run All`).\n",
    "\n",
    "Rename your notebook with `ID.ipynb` (for example, if your ID is 1234567, rename your notebook with `1234567.ipynb`) and submit it on moodle.\n",
    "\n",
    "**Contents:**\n",
    "\n",
    "- Linear Regression."
   ]
  },
  {
   "cell_type": "markdown",
   "metadata": {
    "colab_type": "text",
    "id": "REHkv-y8FpyU"
   },
   "source": [
    "### 1. The hypothesis set"
   ]
  },
  {
   "cell_type": "markdown",
   "metadata": {
    "colab_type": "text",
    "id": "e75OMY0KFpyU"
   },
   "source": [
    "- Linear regression is a **linear** model, e.g. a model that assumes a linear relationship between the input variables (x) and the single output variable (y). More specifically, that y can be calculated from a linear combination of the input variables (x).\n",
    "- Generally, a linear model will make predictions by calculating a weighted sum of the input features (independent variables). \n",
    "\n",
    "$$ \\hat{y}=w_0+w_1x_1+w_2x_2+...+w_nx_n $$\n",
    "\n",
    "- Notations:\n",
    "    - $\\hat{y}$ is the predicted value.\n",
    "    - $n$ is the number of features.\n",
    "    - $x_i$ is the $i^{th}$ feature value.\n",
    "    - $w_j$ is the $j^{th}$ model parameter (including the bias term $w_0$ and the feature weights $w_1,w_2,...w_n$).\n",
    "\n",
    "- You can re-write in form of matrix:\n",
    "\n",
    "$$\\hat{y}=h_{\\mathbf{w}}\\left(\\mathbf{x}\\right)=\\mathbf{w}^{T}\\cdot\\mathbf{x}$$\n",
    "\n",
    "- Notations:\n",
    "    - $\\mathbf{w}$ is the model **parameter vector** (including the bias term $w_0$ and the feature weights $w_1,w_2,...w_n$).\n",
    "    - $\\mathbf{w}^T$ is a transpose  of $\\mathbf{w}$ (a row vector insteade of column vector).\n",
    "    - $\\mathbf{x}$ is the instance's **feature vector**, *containing* $x_0$ to $x_n$, with $x_0$ *always equal to* 1.\n",
    "    - $\\mathbf{w}^{T}\\cdot\\mathbf{x}$ is the dot product of $\\mathbf{w}^T$ and $\\mathbf{x}$.\n",
    "    - $h_{\\mathbf{w}}$ is the hypothesis function, using the parameters $\\mathbf{w}$.\n",
    "![Bias](Bias.png)"
   ]
  },
  {
   "cell_type": "markdown",
   "metadata": {
    "colab_type": "text",
    "id": "5l8F4lnjFpyV"
   },
   "source": [
    "### 2. Performance measure and the learning goal"
   ]
  },
  {
   "cell_type": "markdown",
   "metadata": {
    "colab_type": "text",
    "id": "fdJNZ2q6FpyX"
   },
   "source": [
    "- Before we start to train the model, we need to determine how good the model fits the training data. There are a couple of ways to determine the level of quality, but we are going to use the most popular one and that is the **MSE** (Mean Square Error). We need to find the value for $\\mathbf{w}$ that will minimize the MSE:\n",
    "$$\\mathbf{w}=\\arg\\min MSE_{\\mathcal{D}_{train}}$$\n",
    "\n",
    "\n",
    "- MSE on the train set $\\mathcal{D}_{train}$ denoted as $\\left(\\mathbf{X},\\mathbf{y}\\right)$ including m samples $\\left\\{\\left(\\mathbf{x}_1,y_1\\right),\\left(\\mathbf{x}_2,y_2\\right),...\\left(\\mathbf{x}_m,y_m\\right)\\right\\}$"
   ]
  },
  {
   "cell_type": "markdown",
   "metadata": {
    "colab_type": "text",
    "id": "GTOZj7HfFpyY"
   },
   "source": [
    "$$MSE\\left(X,h_{\\mathbf{w}}\\right)=\\dfrac{1}{m}\\sum_{i=1}^{m}\\left(\\mathbf{w}^T\\cdot\\mathbf{x}_i - y_i\\right )^2$$\n",
    "$$MSE\\left(X,h_{\\mathbf{w}}\\right)=\\dfrac{1}{m}\\Vert\\mathbf{X}\\mathbf{w}-\\mathbf{y}\\Vert^2$$"
   ]
  },
  {
   "cell_type": "markdown",
   "metadata": {},
   "source": [
    "Example below is a plot of an MSE function where the true target value is 100, and the predicted values range between -10,000 to 10,000. The MSE loss (Y-axis) reaches its minimum value at prediction (X-axis) = 100. The range is 0 to ∞.\n",
    "\n",
    "![Plot of MSE Loss (Y-axis) vs. Predictions (X-axis)](MSE.png)"
   ]
  },
  {
   "cell_type": "markdown",
   "metadata": {
    "colab_type": "text",
    "id": "ORU-9tCxFpyZ"
   },
   "source": [
    "- To find the value of $\\mathbf{w}$ that minimizes the MSE cost function, the most common way (*we have known since high school*) is to solve the derivative (gradient) equation. \n",
    "$$\\mathbf{\\hat{w}}=\\left(\\mathbf{X}^T  \\mathbf{X}\\right)^{\\dagger}  \\mathbf{X}^T  \\mathbf{y}$$\n",
    "  - $\\mathbf{\\hat{w}}$ is the value of $\\mathbf{w}$ that minimizes the cost function\n",
    "  - **Notice that** $\\mathbf{X}^T  \\mathbf{X}$ is not always invertible. $\\left(\\mathbf{X}^T  \\mathbf{X}\\right)^{\\dagger}$ is pseudo-inverse of $\\left(\\mathbf{X}^T \\mathbf{X}\\right)$ - a general case of inverse when the matrix is not invertible or not even square."
   ]
  },
  {
   "cell_type": "markdown",
   "metadata": {
    "colab_type": "text",
    "id": "6Tgy-tRYFpyZ"
   },
   "source": [
    "### 3. Implementation "
   ]
  },
  {
   "cell_type": "markdown",
   "metadata": {
    "colab_type": "text",
    "id": "qauCdk7LFpya"
   },
   "source": [
    "#### Import Library"
   ]
  },
  {
   "cell_type": "code",
   "execution_count": 1,
   "metadata": {
    "colab": {},
    "colab_type": "code",
    "id": "70Mis-p9Fpyd"
   },
   "outputs": [],
   "source": [
    "import numpy as np\n",
    "import matplotlib.pyplot as plt \n",
    "import sklearn.datasets as datasets\n",
    "import pandas as pd\n",
    "from sklearn.linear_model import LinearRegression\n",
    "from sklearn.model_selection import train_test_split\n",
    "%matplotlib inline"
   ]
  },
  {
   "cell_type": "markdown",
   "metadata": {
    "colab_type": "text",
    "id": "nRr06hARFpyk"
   },
   "source": [
    "#### Create data"
   ]
  },
  {
   "cell_type": "code",
   "execution_count": 2,
   "metadata": {
    "colab": {},
    "colab_type": "code",
    "id": "g0K3G_SOFpyk"
   },
   "outputs": [],
   "source": [
    "X,y=datasets.make_regression(n_samples=100,n_features=1, noise=5)"
   ]
  },
  {
   "cell_type": "markdown",
   "metadata": {
    "colab_type": "text",
    "id": "vBFWzeY3Fpyp"
   },
   "source": [
    "#### Load and visualize data"
   ]
  },
  {
   "cell_type": "code",
   "execution_count": 3,
   "metadata": {
    "colab": {},
    "colab_type": "code",
    "id": "4BpxLtG3Fpyq"
   },
   "outputs": [
    {
     "data": {
      "image/png": "[encoded data removed]",
      "text/plain": [
       "<Figure size 640x480 with 1 Axes>"
      ]
     },
     "metadata": {},
     "output_type": "display_data"
    }
   ],
   "source": [
    "# Visualize data \n",
    "\n",
    "plt.plot(X, y, 'ro')\n",
    "plt.show()"
   ]
  },
  {
   "cell_type": "markdown",
   "metadata": {
    "colab_type": "text",
    "id": "PLDAEVR8Fpyx"
   },
   "source": [
    "**TODO:** Your observation about data\n",
    "\n",
    "My observation on the data: as you guys can see, the graph above, as our data visualization showed. \n",
    "\n",
    "Since we used `datasets.make_regression` with the default parameters(`n_samples=100,n_features=1, noise=5`), the generated relationship is likely to be linear. This means that the realtionship between X and y can be approximated by a straight line.\n",
    "\n",
    "The presence of noise (controlled by the `noise` parameter) suggests that the relationship is not perfectly deterministic. There is some random variation or error added to the data points, simulating real-world scenarios where perfect predictions are not possible.\n",
    "\n",
    "..."
   ]
  },
  {
   "cell_type": "markdown",
   "metadata": {
    "colab_type": "text",
    "id": "mrb7peM1Fpyz"
   },
   "source": [
    "#### Training function"
   ]
  },
  {
   "cell_type": "code",
   "execution_count": 4,
   "metadata": {
    "colab": {},
    "colab_type": "code",
    "id": "DdPXTgoAFpyz"
   },
   "outputs": [],
   "source": [
    "def train_linear_regression(X, y):\n",
    "    '''\n",
    "    Trains Linear Regression on the dataset (X, y).\n",
    "    \n",
    "    Parameters\n",
    "    ----------\n",
    "    X : numpy array, shape (m, d + 1)\n",
    "        The matrix of input vectors (each row corresponds to an input vector); \n",
    "        the first column of this matrix is all ones (corresponding to x_0).\n",
    "    y : numpy array, shape (m, 1)\n",
    "        The vector of outputs.\n",
    "    \n",
    "    Returns\n",
    "    -------\n",
    "    w : numpy array, shape (d + 1, 1)\n",
    "        The vector of parameters of Linear Regression after training.\n",
    "    '''\n",
    "    # TODO\n",
    "    \n",
    "    # Convert X and y to pandas DataFrames\n",
    "    X_df = pd.DataFrame(X, columns=['x0', 'X'])  # Assuming the first column is x_0\n",
    "    y_df = pd.DataFrame(y, columns=['y'])\n",
    "\n",
    "    # X_df = pd.DataFrame(X, columns=['X'])  # Assuming the first column is x_0\n",
    "    # y_df = pd.DataFrame(y, columns=['y'])\n",
    "\n",
    "    # Check if 'x0' column already exists before adding it\n",
    "    if 'x0' not in X_df.columns:\n",
    "        # Add a column of ones to the input DataFrame, if not do nothing\n",
    "        X_df.insert(0, 'x0', 1)\n",
    "\n",
    "    # Perform linear regression using pandas and numpy    \n",
    "    \n",
    "    X_transpose_X_inv = np.linalg.inv(X_df.T.dot(X_df))\n",
    "    # Implement: X^T.X, which is the dot product of the transpose of X and X.\n",
    "    w = X_transpose_X_inv.dot(X_df.T).dot(y_df)\n",
    "    # Implement: X^T.y, which is the dot product of the transpose of X and y.\n",
    "\n",
    "    \n",
    "\n",
    "    # IMPLEMENT sklearn.linear_model and sklearn.model_selection libraries\n",
    "    # X_train, X_test, y_train, y_test = train_test_split(X_df, y_df, test_size = 0.2, random_state = 42)\n",
    "    # w = LinearRegression()\n",
    "    # w.fit(X_train, y_train)\n",
    "    # print(\"TRAIN: \", w)\n",
    "    \n",
    "    # print(X_df) \n",
    "    # print(y_df) \n",
    "    \n",
    "    # w.fit(X_df,y_df)\n",
    "    \n",
    "    \n",
    "    return w"
   ]
  },
  {
   "cell_type": "code",
   "execution_count": 5,
   "metadata": {
    "colab": {},
    "colab_type": "code",
    "id": "wDgQ-5EDFpy5"
   },
   "outputs": [
    {
     "name": "stdout",
     "output_type": "stream",
     "text": [
      "one_added_X.shape = (100, 2)\n",
      "y.shape = (100,)\n"
     ]
    }
   ],
   "source": [
    "# Construct one_added_X \n",
    "# TODO:\n",
    "# First column of one_added_X is all ones (corresponding to x_0).\n",
    "one_added_X = np.concatenate([np.ones((X.shape[0], 1)), X], axis=1)\n",
    "\n",
    "# np.ones((X.shape[0], 1)): \n",
    "# This creates a column vector of ones with the same number of rows as X. This corresponds to the intercept term X0.\n",
    "\n",
    "# np.concatenate([np.ones((X.shape[0], 1)), X], axis=1)\n",
    "# This concatenates the column vector of ones and the original feature matrix along the columns (axis=1). The result is the design matrix one_added_X with the first column being all ones.\n",
    "print ('one_added_X.shape =', one_added_X.shape)\n",
    "print ('y.shape =', y.shape)"
   ]
  },
  {
   "cell_type": "markdown",
   "metadata": {
    "colab_type": "text",
    "id": "nVhd2dvCFpzE"
   },
   "source": [
    "#### Train our model and visualize result"
   ]
  },
  {
   "cell_type": "code",
   "execution_count": 6,
   "metadata": {
    "colab": {},
    "colab_type": "code",
    "id": "y3YvmkEEFpzE"
   },
   "outputs": [
    {
     "data": {
      "text/plain": [
       "(-2.8579542089714436, 3.163873536576656)"
      ]
     },
     "execution_count": 6,
     "metadata": {},
     "output_type": "execute_result"
    },
    {
     "data": {
      "image/png": "[encoded data removed]",
      "text/plain": [
       "<Figure size 640x480 with 1 Axes>"
      ]
     },
     "metadata": {},
     "output_type": "display_data"
    }
   ],
   "source": [
    "w = train_linear_regression(one_added_X, y)\n",
    "\n",
    "# Visualize result\n",
    "predicted_ys = one_added_X.dot(w)\n",
    "\n",
    "# IMPLEMENT sklearn.linear_model library\n",
    "# predicted_ys = w.predict(one_added_X)\n",
    "\n",
    "plt.plot(X,y,'ro')\n",
    "# print (w)\n",
    "# score = w.predict([[9.5]])\n",
    "# print(score)\n",
    "\n",
    "x_min, x_max = plt.xlim()\n",
    "xs = np.array([x_min, x_max]).reshape(-1, 1)\n",
    "\n",
    "# Construct one_added_xs \n",
    "# TODO:\n",
    "# First column of one_added_xs is all ones (corresponding to x_0).\n",
    "# print (xs)\n",
    "first_one = np.ones((xs.shape[0], 1))\n",
    "ones_added_xs = np.concatenate((first_one, xs), axis=1)\n",
    "\n",
    "predicted_ys = ones_added_xs.dot(w)\n",
    "\n",
    "# IMPLEMENT sklearn.linear_model library\n",
    "# predicted_ys = w.predict(ones_added_xs)\n",
    "\n",
    "plt.plot(xs, predicted_ys)\n",
    "plt.xlim(x_min, x_max)"
   ]
  },
  {
   "cell_type": "markdown",
   "metadata": {
    "colab_type": "text",
    "id": "lTO6ilruFpzH"
   },
   "source": [
    "**TODO**: Discuss about advantages and disadvantages of `Linear Regression`:\n",
    "\n",
    "## Advantages:\n",
    "- Simple to implement, good interpret and efficient to train\n",
    "\n",
    "- Linear regression tends to have a lower risk of **over-fitting** than **under-fitting**, particularly when compared to more complex models. In order to achieve that, we have to use some methods to prevend **over-fitting** in `Linear Regression` such as: Feature Selection, Regularization, Cross-Validation, Data Splitting, Feature Scaling, ...\n",
    "\n",
    "- `Linear Regression models` are generally easier to train compared to more complex models. Several factors contribute to this ease of training: Closed-Form Solution, Gradient Descent, Low Computational Complexity, Ease of Interpretation,... However, it's important to note that the simplicity of linear regression comes with trade-offs. Linear regression may not perform well when the relationship between features and the target variable is highly nonlinear or when there are complex interactions between features. That why we need to use some methods above to addressing these issue. But the choice of models still heavily depends on the characteristics of the data and the goals of the modeling task.\n",
    "\n",
    "- It has a considerably lower complexity when compared to other machine learning algorithms: `k-Nearest Neighbors(k-NN)` - Moderate Complexity, `Support Vector Machines(SVM)` - Higher Complexity, `Recurrent Neural Networks(RNNs) and Long Short-Term Memory(LSTM)` - Very High Complexity, ...\n",
    "\n",
    "## Disadvantages:\n",
    "- Outliers and noise can have considerable effects on the regression that can lead to models with low accuracy.\n",
    "\n",
    "- It can't implement on complicated model because it it assumes a linear relationship between the input and output variables, so it fails to fit complex datasets properly. In real life, the realationship between the variables of the dataset isn't always linear and hence a straight line doesn't fit the data properly without using some methods for data cleaning so that it can fit the model well.\n",
    "\n",
    "- Linear regression assumes that the data is independent, so very often the inputs aren't independent of each other.\n",
    "\n",
    "- Sensitive with noise, multicollinearity data and insufficient cbservations, so we have to remove it before using linear regression and if the number of observations are lesser than the number of features, we should use other algorithms instead of linear regression.\n",
    "\n",
    "- It's important to note that linear regression has its strengths but is not a one-size-fits-all solution. Understanding the assumptions and limitations is crucial for selecting the appropriate model for a given dataset. In situations where linear regression's assumptions are violated, or when dealing with complex relationships, other machine learning algorithms or advanced regression techniques may be considered. Regularization methods like Lasso or Ridge regression can also help address multicollinearity and prevent overfitting.\n",
    "...\n",
    "\n",
    "**BONUS**: Discuss about advantages and disadvantages of the way i use to implement `Linear Regression`\n",
    "\n",
    "\n",
    "## Approach 1 (Numpy and Pandas):\n",
    "### Advantages:\n",
    "- Transparency and Control: Provides explicit control over the implementation, making it suitable for learning purposes or when fine-tuning specific aspects of the regression process.\n",
    "- Flexibility: Allows for easy customization or modification of the linear regression algorithm based on specific requirements.\n",
    "- Understanding: Helps users gain a deeper understanding of the mathematical concepts involved in linear regression.\n",
    "### Disadvantages:\n",
    "- Manual Implementation: Requires manual implementation of the closed-form solution, which can be time-consuming and error-prone.\n",
    "- Not Optimized for Large Datasets: May not be as efficient for large datasets due to the direct calculation of the closed-form solution.\n",
    "- Code Length: Involves writing more lines of code to achieve the same result compared to the higher-level abstraction in Approach 2.\n",
    "\n",
    "## Approach 2 (Numpy, Pandas, sklearn.linear_model, and sklearn.model_selection):\n",
    "### Advantages:\n",
    "- Convenience: Utilizes the convenient LinearRegression class from sklearn, abstracting away the mathematical details and requiring less manual coding.\n",
    "- Optimized Implementation: sklearn's implementation is well-optimized and may use more efficient algorithms, making it suitable for large datasets.\n",
    "- Time Savings: Faster development and prototyping due to the higher level of abstraction and pre-implemented solutions.\n",
    "### Disadvantages:\n",
    "- Less Transparency: Offers less transparency into the mathematical details, which might be a disadvantage for those who want to understand every step of the process.\n",
    "- Dependency on External Library: Requires the sklearn library, which may be a consideration if minimizing dependencies is essential.\n",
    "- Limited Customization: Less flexibility for customizing the linear regression algorithm compared to Approach 1.\n",
    "\n",
    "## Considerations:\n",
    "- `Dataset Size`: For small to medium-sized datasets, both approaches can work well. For large datasets, Approach 2 may have an edge due to optimizations in sklearn.\n",
    "- `Learning vs. Production`: Approach 1 is more suitable for learning and understanding the intricacies of linear regression, while Approach 2 is more convenient for production code and quick prototyping.\n",
    "- `Code Maintenance`: Approach 2 may be easier to maintain, especially when updates or modifications are needed, due to the encapsulated functionality provided by sklearn.\n",
    "\n",
    "In summary, the choice between the two approaches depends on the specific requirements of the task, the level of transparency desired, and the trade-off between control and convenience."
   ]
  }
 ],
 "metadata": {
  "colab": {
   "collapsed_sections": [],
   "name": "Lab01-LinearRegression.ipynb",
   "provenance": []
  },
  "kernelspec": {
   "display_name": "Python 3 (ipykernel)",
   "language": "python",
   "name": "python3"
  },
  "language_info": {
   "codemirror_mode": {
    "name": "ipython",
    "version": 3
   },
   "file_extension": ".py",
   "mimetype": "text/x-python",
   "name": "python",
   "nbconvert_exporter": "python",
   "pygments_lexer": "ipython3",
   "version": "3.11.5"
  }
 },
 "nbformat": 4,
 "nbformat_minor": 1
}
